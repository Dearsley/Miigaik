{
  "nbformat": 4,
  "nbformat_minor": 0,
  "metadata": {
    "colab": {
      "provenance": [],
      "authorship_tag": "ABX9TyOEW0nodRZeTnU9I7FcAMXK",
      "include_colab_link": true
    },
    "kernelspec": {
      "name": "python3",
      "display_name": "Python 3"
    },
    "language_info": {
      "name": "python"
    }
  },
  "cells": [
    {
      "cell_type": "markdown",
      "metadata": {
        "id": "view-in-github",
        "colab_type": "text"
      },
      "source": [
        "<a href=\"https://colab.research.google.com/github/Dearsley/Miigaik/blob/main/%D0%94%D0%BE%D0%BF.%20%D0%B7%D0%B0%D0%B4%D0%B0%D0%BD%D0%B8%D1%8F/%D0%97%D0%B0%D0%B4%D0%B0%D0%BD%D0%B8%D0%B5_1.ipynb\" target=\"_parent\"><img src=\"https://colab.research.google.com/assets/colab-badge.svg\" alt=\"Open In Colab\"/></a>"
      ]
    },
    {
      "cell_type": "code",
      "execution_count": 8,
      "metadata": {
        "colab": {
          "base_uri": "https://localhost:8080/"
        },
        "id": "O-FfO50pAdEZ",
        "outputId": "a2a493c1-32ae-4b5c-ff4d-29588163f90e"
      },
      "outputs": [
        {
          "output_type": "stream",
          "name": "stdout",
          "text": [
            "Введите число 12\n",
            "Больше\n",
            "Введите число 50\n",
            "Победа, число попыток: 2\n"
          ]
        }
      ],
      "source": [
        "import random\n",
        "\n",
        "num, flag, count = random.randint(0, 100), True, 1\n",
        "while flag:\n",
        "  ans = input(\"Введите число \")\n",
        "  flag = False if (ans == \"Выход\" or int(ans) == num) else True\n",
        "  print(\"Меньше\" if int(ans) > num else(\"Больше\" if int(ans) < num else f\"Победа, число попыток: {count}\"))\n",
        "  count += 1"
      ]
    }
  ]
}